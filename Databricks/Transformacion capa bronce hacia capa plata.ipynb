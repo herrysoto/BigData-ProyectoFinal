{
 "cells": [
  {
   "cell_type": "code",
   "execution_count": 0,
   "metadata": {
    "application/vnd.databricks.v1+cell": {
     "cellMetadata": {
      "byteLimit": 2048000,
      "rowLimit": 10000
     },
     "inputWidgets": {},
     "nuid": "c5f6fed1-7982-4446-89fd-4a101886f082",
     "showTitle": false,
     "tableResultSettingsMap": {},
     "title": ""
    }
   },
   "outputs": [
    {
     "output_type": "display_data",
     "data": {
      "text/html": [
       "<style scoped>\n",
       "  .ansiout {\n",
       "    display: block;\n",
       "    unicode-bidi: embed;\n",
       "    white-space: pre-wrap;\n",
       "    word-wrap: break-word;\n",
       "    word-break: break-all;\n",
       "    font-family: \"Menlo\", \"Monaco\", \"Consolas\", \"Ubuntu Mono\", \"Source Code Pro\", monospace;\n",
       "    font-size: 13px;\n",
       "    color: #555;\n",
       "    margin-left: 4px;\n",
       "    line-height: 19px;\n",
       "  }\n",
       "</style>\n",
       "<div class=\"ansiout\">storageAccount: String = hsotomontalvo1\n",
       "container: String = hsotomontalvocont\n",
       "sasKey: String = sv=2022-11-02&amp;ss=bfqt&amp;srt=sco&amp;sp=rwdlacupyx&amp;se=2024-12-03T09:00:50Z&amp;st=2024-12-03T01:00:50Z&amp;spr=https&amp;sig=uCGphZMy%2BK7FhdJEbzaTK6BuMJDwm1rHI4qiezsEN8E%3D\n",
       "conf: String = fs.azure.sas.hsotomontalvocont.hsotomontalvo1.blob.core.windows.net\n",
       "res5: Boolean = true\n",
       "</div>"
      ]
     },
     "metadata": {
      "application/vnd.databricks.v1+output": {
       "addedWidgets": {},
       "arguments": {},
       "data": "<div class=\"ansiout\">storageAccount: String = hsotomontalvo1\ncontainer: String = hsotomontalvocont\nsasKey: String = sv=2022-11-02&amp;ss=bfqt&amp;srt=sco&amp;sp=rwdlacupyx&amp;se=2024-12-03T09:00:50Z&amp;st=2024-12-03T01:00:50Z&amp;spr=https&amp;sig=uCGphZMy%2BK7FhdJEbzaTK6BuMJDwm1rHI4qiezsEN8E%3D\nconf: String = fs.azure.sas.hsotomontalvocont.hsotomontalvo1.blob.core.windows.net\nres5: Boolean = true\n</div>",
       "datasetInfos": [],
       "metadata": {
        "isDbfsCommandResult": false
       },
       "removedWidgets": [],
       "type": "html"
      }
     },
     "output_type": "display_data"
    }
   ],
   "source": [
    "%scala\n",
    "\n",
    "val storageAccount = \"hsotomontalvo1\"  //nombre de la cuenta de almacenamiento\n",
    "val container = \"hsotomontalvocont\"  //nombre del contenedor\n",
    "val sasKey = \"sv=2022-11-02&ss=bfqt&srt=sco&sp=rwdlacupyx&se=2024-12-03T09:00:50Z&st=2024-12-03T01:00:50Z&spr=https&sig=uCGphZMy%2BK7FhdJEbzaTK6BuMJDwm1rHI4qiezsEN8E%3D\"   //llave conexion\n",
    "\n",
    "val conf = \"fs.azure.sas.\" + container + \".\" + storageAccount + \".blob.core.windows.net\"\n",
    "\n",
    "\n",
    "//Crear acceso directo\n",
    "dbutils.fs.mount(source=\"wasbs://\" + container + \"@\" + storageAccount + \".blob.core.windows.net\", mountPoint=\"/mnt/\" + container, extraConfigs=Map(conf -> sasKey))\n",
    "\n"
   ]
  },
  {
   "cell_type": "code",
   "execution_count": 0,
   "metadata": {
    "application/vnd.databricks.v1+cell": {
     "cellMetadata": {
      "byteLimit": 2048000,
      "implicitDf": true,
      "rowLimit": 10000
     },
     "inputWidgets": {},
     "nuid": "d82931bf-809b-4d7c-9d8a-ed0bb0c57382",
     "showTitle": false,
     "tableResultSettingsMap": {},
     "title": ""
    }
   },
   "outputs": [
    {
     "output_type": "display_data",
     "data": {
      "text/html": [
       "<style scoped>\n",
       "  .table-result-container {\n",
       "    max-height: 300px;\n",
       "    overflow: auto;\n",
       "  }\n",
       "  table, th, td {\n",
       "    border: 1px solid black;\n",
       "    border-collapse: collapse;\n",
       "  }\n",
       "  th, td {\n",
       "    padding: 5px;\n",
       "  }\n",
       "  th {\n",
       "    text-align: left;\n",
       "  }\n",
       "</style><div class='table-result-container'><table class='table-result'><thead style='background-color: white'><tr></tr></thead><tbody></tbody></table></div>"
      ]
     },
     "metadata": {
      "application/vnd.databricks.v1+output": {
       "addedWidgets": {},
       "aggData": [],
       "aggError": "",
       "aggOverflow": false,
       "aggSchema": [],
       "aggSeriesLimitReached": false,
       "aggType": "",
       "arguments": {},
       "columnCustomDisplayInfos": {},
       "data": [],
       "datasetInfos": [],
       "dbfsResultPath": null,
       "isJsonSchema": true,
       "metadata": {
        "dataframeName": null
       },
       "overflow": false,
       "plotOptions": {
        "customPlotOptions": {},
        "displayType": "table",
        "pivotAggregation": null,
        "pivotColumns": null,
        "xColumns": null,
        "yColumns": null
       },
       "removedWidgets": [],
       "schema": [],
       "type": "table"
      }
     },
     "output_type": "display_data"
    }
   ],
   "source": [
    "%sql\n",
    "\n",
    "---Ingesta archivo producto .csv\n",
    "\n",
    "---Para eliminar la tabla de la base de datos\n",
    "DROP TABLE IF EXISTS Producto;\n",
    "\n",
    "--crear tabla\n",
    "CREATE TABLE Producto\n",
    "(Cod_Producto STRING, Nombre STRING, Cod_SubCategoria STRING, Color STRING)\n",
    "USING CSV\n",
    "OPTIONS (header 'true', inferSchema 'true', delimiter '|')\n",
    "LOCATION \"/mnt/hsotomontalvocont/proyectofinal/capabronce/Producto.csv\""
   ]
  },
  {
   "cell_type": "code",
   "execution_count": 0,
   "metadata": {
    "application/vnd.databricks.v1+cell": {
     "cellMetadata": {
      "byteLimit": 2048000,
      "implicitDf": true,
      "rowLimit": 10000
     },
     "inputWidgets": {},
     "nuid": "8231877c-826a-4a35-ad43-8be288910870",
     "showTitle": false,
     "tableResultSettingsMap": {},
     "title": ""
    }
   },
   "outputs": [
    {
     "output_type": "display_data",
     "data": {
      "text/html": [
       "<style scoped>\n",
       "  .table-result-container {\n",
       "    max-height: 300px;\n",
       "    overflow: auto;\n",
       "  }\n",
       "  table, th, td {\n",
       "    border: 1px solid black;\n",
       "    border-collapse: collapse;\n",
       "  }\n",
       "  th, td {\n",
       "    padding: 5px;\n",
       "  }\n",
       "  th {\n",
       "    text-align: left;\n",
       "  }\n",
       "</style><div class='table-result-container'><table class='table-result'><thead style='background-color: white'><tr></tr></thead><tbody></tbody></table></div>"
      ]
     },
     "metadata": {
      "application/vnd.databricks.v1+output": {
       "addedWidgets": {},
       "aggData": [],
       "aggError": "",
       "aggOverflow": false,
       "aggSchema": [],
       "aggSeriesLimitReached": false,
       "aggType": "",
       "arguments": {},
       "columnCustomDisplayInfos": {},
       "data": [],
       "datasetInfos": [],
       "dbfsResultPath": null,
       "isJsonSchema": true,
       "metadata": {
        "dataframeName": null
       },
       "overflow": false,
       "plotOptions": {
        "customPlotOptions": {},
        "displayType": "table",
        "pivotAggregation": null,
        "pivotColumns": null,
        "xColumns": null,
        "yColumns": null
       },
       "removedWidgets": [],
       "schema": [],
       "type": "table"
      }
     },
     "output_type": "display_data"
    }
   ],
   "source": [
    "%sql\n",
    "\n",
    "--Ingestar archivo Categoria.csv\n",
    "---Para eliminar la tabla de la base de datos\n",
    "DROP TABLE IF EXISTS Categoria;\n",
    "\n",
    "--crear tabla\n",
    "CREATE TABLE Categoria\n",
    "(Cod_Categoria STRING,Nombre STRING)\n",
    "USING CSV\n",
    "OPTIONS (header 'true', inferSchema 'true', delimiter ',')\n",
    "LOCATION \"/mnt/hsotomontalvocont/proyectofinal/capabronce/Categoria.csv\"\n"
   ]
  },
  {
   "cell_type": "code",
   "execution_count": 0,
   "metadata": {
    "application/vnd.databricks.v1+cell": {
     "cellMetadata": {
      "byteLimit": 2048000,
      "implicitDf": true,
      "rowLimit": 10000
     },
     "inputWidgets": {},
     "nuid": "bc0853f7-8825-44a5-bc5d-d8f478879f5d",
     "showTitle": false,
     "tableResultSettingsMap": {},
     "title": ""
    }
   },
   "outputs": [
    {
     "output_type": "display_data",
     "data": {
      "text/html": [
       "<style scoped>\n",
       "  .table-result-container {\n",
       "    max-height: 300px;\n",
       "    overflow: auto;\n",
       "  }\n",
       "  table, th, td {\n",
       "    border: 1px solid black;\n",
       "    border-collapse: collapse;\n",
       "  }\n",
       "  th, td {\n",
       "    padding: 5px;\n",
       "  }\n",
       "  th {\n",
       "    text-align: left;\n",
       "  }\n",
       "</style><div class='table-result-container'><table class='table-result'><thead style='background-color: white'><tr></tr></thead><tbody></tbody></table></div>"
      ]
     },
     "metadata": {
      "application/vnd.databricks.v1+output": {
       "addedWidgets": {},
       "aggData": [],
       "aggError": "",
       "aggOverflow": false,
       "aggSchema": [],
       "aggSeriesLimitReached": false,
       "aggType": "",
       "arguments": {},
       "columnCustomDisplayInfos": {},
       "data": [],
       "datasetInfos": [],
       "dbfsResultPath": null,
       "isJsonSchema": true,
       "metadata": {
        "dataframeName": null
       },
       "overflow": false,
       "plotOptions": {
        "customPlotOptions": {},
        "displayType": "table",
        "pivotAggregation": null,
        "pivotColumns": null,
        "xColumns": null,
        "yColumns": null
       },
       "removedWidgets": [],
       "schema": [],
       "type": "table"
      }
     },
     "output_type": "display_data"
    }
   ],
   "source": [
    "%sql\n",
    "\n",
    "--Ingestar archivo SubCategoria.csv\n",
    "\n",
    "---Para eliminar la tabla de la base de datos\n",
    "DROP TABLE IF EXISTS SubCategoria;\n",
    "\n",
    "--crear tabla\n",
    "CREATE TABLE SubCategoria\n",
    "(Cod_SubCategoria STRING,Nombre STRING,Cod_Categoria STRING)\n",
    "USING CSV\n",
    "OPTIONS (header 'true', inferSchema 'true', delimiter ',')\n",
    "LOCATION \"/mnt/hsotomontalvocont/proyectofinal/capabronce/SubCategoria.csv\""
   ]
  },
  {
   "cell_type": "code",
   "execution_count": 0,
   "metadata": {
    "application/vnd.databricks.v1+cell": {
     "cellMetadata": {
      "byteLimit": 2048000,
      "rowLimit": 10000
     },
     "inputWidgets": {},
     "nuid": "6a73129f-1398-4d9b-8e25-c903980c5270",
     "showTitle": false,
     "tableResultSettingsMap": {},
     "title": ""
    }
   },
   "outputs": [],
   "source": [
    "dfProducto = spark.table(\"Producto\")\n",
    "dfProducto.write.mode(\"overwrite\").parquet(\"/mnt/hsotomontalvocont/proyectofinal/capaplata/Product.parquet\")"
   ]
  },
  {
   "cell_type": "code",
   "execution_count": 0,
   "metadata": {
    "application/vnd.databricks.v1+cell": {
     "cellMetadata": {
      "byteLimit": 2048000,
      "rowLimit": 10000
     },
     "inputWidgets": {},
     "nuid": "11ae50af-8393-440b-b581-f64a92792800",
     "showTitle": false,
     "tableResultSettingsMap": {},
     "title": ""
    }
   },
   "outputs": [],
   "source": [
    "dfProducto = spark.table(\"Categoria\")\n",
    "dfProducto.write.mode(\"overwrite\").parquet(\"/mnt/hsotomontalvocont/proyectofinal/capaplata/Categoria.parquet\")"
   ]
  },
  {
   "cell_type": "code",
   "execution_count": 0,
   "metadata": {
    "application/vnd.databricks.v1+cell": {
     "cellMetadata": {
      "byteLimit": 2048000,
      "rowLimit": 10000
     },
     "inputWidgets": {},
     "nuid": "3f330a13-143d-4a2f-a009-f4117357e525",
     "showTitle": false,
     "tableResultSettingsMap": {},
     "title": ""
    }
   },
   "outputs": [],
   "source": [
    "dfProducto = spark.table(\"SubCategoria\")\n",
    "dfProducto.write.mode(\"overwrite\").parquet(\"/mnt/hsotomontalvocont/proyectofinal/capaplata/SubCategoria.parquet\")"
   ]
  },
  {
   "cell_type": "code",
   "execution_count": 0,
   "metadata": {
    "application/vnd.databricks.v1+cell": {
     "cellMetadata": {
      "byteLimit": 2048000,
      "rowLimit": 10000
     },
     "inputWidgets": {},
     "nuid": "1a701fc7-e96e-4cf7-bd93-e6411cac88a4",
     "showTitle": false,
     "tableResultSettingsMap": {},
     "title": ""
    }
   },
   "outputs": [
    {
     "output_type": "stream",
     "name": "stdout",
     "output_type": "stream",
     "text": [
      "/mnt/hsotomontalvocont has been unmounted.\n"
     ]
    },
    {
     "output_type": "execute_result",
     "data": {
      "text/plain": [
       "True"
      ]
     },
     "execution_count": 15,
     "metadata": {},
     "output_type": "execute_result"
    }
   ],
   "source": [
    "#Eliminar acceso directo\n",
    "dbutils.fs.unmount(\"/mnt/hsotomontalvocont\")"
   ]
  }
 ],
 "metadata": {
  "application/vnd.databricks.v1+notebook": {
   "dashboards": [],
   "environmentMetadata": {
    "base_environment": "",
    "client": "1"
   },
   "language": "python",
   "notebookMetadata": {
    "mostRecentlyExecutedCommandWithImplicitDF": {
     "commandId": 1419594147459728,
     "dataframes": [
      "_sqldf"
     ]
    },
    "pythonIndentUnit": 4
   },
   "notebookName": "Transformacion capa bronce hacia capa plata",
   "widgets": {}
  },
  "language_info": {
   "name": "python"
  }
 },
 "nbformat": 4,
 "nbformat_minor": 0
}
